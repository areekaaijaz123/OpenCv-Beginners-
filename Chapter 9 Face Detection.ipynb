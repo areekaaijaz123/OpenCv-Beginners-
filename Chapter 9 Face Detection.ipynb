{
 "cells": [
  {
   "cell_type": "code",
   "execution_count": 1,
   "metadata": {},
   "outputs": [],
   "source": [
    "import cv2"
   ]
  },
  {
   "cell_type": "code",
   "execution_count": 4,
   "metadata": {},
   "outputs": [],
   "source": [
    "#haar cascade fontal face default method is used\n",
    "#faceCascade = cv2.CascadeClassifier()\n",
    "\n",
    "img = cv2.imread('test.jpg')\n",
    "grayImg = cv2.cvtColor(img, cv2.COLOR_BGR2GRAY)\n",
    "\n",
    "#faces = faceCascade.detectMultiScale(grayImg, 1,1,4)\n",
    "\n",
    "#for (x,y,w,h) in faces:\n",
    "    #cv2.rectangle(img, (x,y), (x+w, y+h), (255,0,0), 2)\n",
    "\n",
    "cv2.imshow('Output',img)\n",
    "\n",
    "key = cv2.waitKey(0)\n",
    "cv2.destroyAllWindows()"
   ]
  },
  {
   "cell_type": "code",
   "execution_count": null,
   "metadata": {},
   "outputs": [],
   "source": []
  }
 ],
 "metadata": {
  "kernelspec": {
   "display_name": "Python 3",
   "language": "python",
   "name": "python3"
  },
  "language_info": {
   "codemirror_mode": {
    "name": "ipython",
    "version": 3
   },
   "file_extension": ".py",
   "mimetype": "text/x-python",
   "name": "python",
   "nbconvert_exporter": "python",
   "pygments_lexer": "ipython3",
   "version": "3.7.3"
  }
 },
 "nbformat": 4,
 "nbformat_minor": 2
}
