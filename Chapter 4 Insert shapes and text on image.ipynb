{
 "cells": [
  {
   "cell_type": "code",
   "execution_count": 1,
   "metadata": {},
   "outputs": [],
   "source": [
    "#Shapes and Texts"
   ]
  },
  {
   "cell_type": "code",
   "execution_count": 2,
   "metadata": {},
   "outputs": [],
   "source": [
    "import cv2\n",
    "import numpy as np"
   ]
  },
  {
   "cell_type": "code",
   "execution_count": 3,
   "metadata": {},
   "outputs": [],
   "source": [
    "# 0 = black\n",
    "#Create matrix of 0's\n",
    "\n",
    "img1 = np.zeros((512,512))       #gray scaled img bcz it only have 512x512 pixels\n",
    "cv2.imshow('Image',img1)\n",
    "\n",
    "cv2.waitKey(0)\n",
    "cv2.destroyAllWindows()"
   ]
  },
  {
   "cell_type": "code",
   "execution_count": 4,
   "metadata": {},
   "outputs": [],
   "source": [
    "#How to color the image\n",
    "\n",
    "img2 = np.zeros((512,512,3),np.uint8)\n",
    "\n",
    "img2[:] = 0,0,0                   #by changing values we'll get different colors\n",
    "cv2.imshow('Image',img2)\n",
    "\n",
    "cv2.waitKey(0)\n",
    "cv2.destroyAllWindows()"
   ]
  },
  {
   "cell_type": "code",
   "execution_count": 5,
   "metadata": {},
   "outputs": [],
   "source": [
    "#How to create lines\n",
    "\n",
    "cv2.line(img2, (0,0), (300,300), (0,255,0), 3)\n",
    "#attributes = img, starting point, ending point, color combination, thickness\n",
    "\n",
    "cv2.imshow('Image',img2)\n",
    "\n",
    "cv2.waitKey(0)\n",
    "cv2.destroyAllWindows()"
   ]
  },
  {
   "cell_type": "code",
   "execution_count": 6,
   "metadata": {},
   "outputs": [],
   "source": [
    "#Create rectangles\n",
    "\n",
    "cv2.rectangle(img2, (3,3), (250,350), (0,0,255), 3)\n",
    "#attributes = img, starting point, ending point, color combination, thickness\n",
    "\n",
    "#we can use cv2.FILLED in thickness field to completely fill rectangle\n",
    "\n",
    "cv2.imshow('Image',img2)\n",
    "\n",
    "cv2.waitKey(0)\n",
    "cv2.destroyAllWindows()"
   ]
  },
  {
   "cell_type": "code",
   "execution_count": 7,
   "metadata": {},
   "outputs": [],
   "source": [
    "#Create circles\n",
    "\n",
    "cv2.circle(img2, (400,50), 30, (255,0,0), 5)\n",
    "#attributes = img, center point, radius, color combination, thickness\n",
    "\n",
    "cv2.imshow('Image',img2)\n",
    "\n",
    "cv2.waitKey(0)\n",
    "cv2.destroyAllWindows()"
   ]
  },
  {
   "cell_type": "code",
   "execution_count": 8,
   "metadata": {},
   "outputs": [],
   "source": [
    "#Insert text on an image\n",
    "\n",
    "cv2.putText(img2, 'Hello World', (300,200), cv2.FONT_HERSHEY_COMPLEX, 1, (0,150,0), 2)\n",
    "#attributes = img, starting point, font style, scale(font size), color combination, thickness(width/bold)\n",
    "\n",
    "cv2.imshow('Image',img2)\n",
    "\n",
    "cv2.waitKey(0)\n",
    "cv2.destroyAllWindows()"
   ]
  },
  {
   "cell_type": "code",
   "execution_count": null,
   "metadata": {},
   "outputs": [],
   "source": []
  }
 ],
 "metadata": {
  "kernelspec": {
   "display_name": "Python 3",
   "language": "python",
   "name": "python3"
  },
  "language_info": {
   "codemirror_mode": {
    "name": "ipython",
    "version": 3
   },
   "file_extension": ".py",
   "mimetype": "text/x-python",
   "name": "python",
   "nbconvert_exporter": "python",
   "pygments_lexer": "ipython3",
   "version": "3.7.3"
  }
 },
 "nbformat": 4,
 "nbformat_minor": 2
}
