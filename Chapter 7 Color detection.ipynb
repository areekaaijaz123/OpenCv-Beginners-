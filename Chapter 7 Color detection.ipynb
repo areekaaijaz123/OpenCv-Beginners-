{
 "cells": [
  {
   "cell_type": "code",
   "execution_count": 1,
   "metadata": {},
   "outputs": [],
   "source": [
    "import cv2\n",
    "import numpy as np"
   ]
  },
  {
   "cell_type": "code",
   "execution_count": 2,
   "metadata": {},
   "outputs": [],
   "source": [
    "#Read image\n",
    "img = cv2.imread('Images/car.jpg')\n",
    "cv2.imshow('Original',img)\n",
    "\n",
    "key = cv2.waitKey(0)\n",
    "cv2.destroyAllWindows()"
   ]
  },
  {
   "cell_type": "code",
   "execution_count": 3,
   "metadata": {},
   "outputs": [],
   "source": [
    "#Task is to detect color in the image"
   ]
  },
  {
   "cell_type": "code",
   "execution_count": 4,
   "metadata": {},
   "outputs": [],
   "source": [
    "img = cv2.imread('Images/car.jpg')\n",
    "hsvImg = cv2.cvtColor(img, cv2.COLOR_BGR2HSV)\n",
    "cv2.imshow('HSV',hsvImg)\n",
    "\n",
    "key = cv2.waitKey(0)\n",
    "cv2.destroyAllWindows()"
   ]
  },
  {
   "cell_type": "code",
   "execution_count": 5,
   "metadata": {},
   "outputs": [],
   "source": [
    "def nothing(X):\n",
    "    pass"
   ]
  },
  {
   "cell_type": "code",
   "execution_count": 6,
   "metadata": {},
   "outputs": [],
   "source": [
    "cv2.namedWindow('Trackbars')\n",
    "cv2.resizeWindow('Trackbars',640,240)\n",
    "cv2.createTrackbar('Hue Min', 'Trackbars', 0, 179, nothing)\n",
    "cv2.createTrackbar('Hue Max', 'Trackbars', 31, 179, nothing)\n",
    "cv2.createTrackbar('Sat Min', 'Trackbars', 155, 255, nothing)\n",
    "cv2.createTrackbar('Sat Max', 'Trackbars', 255, 255, nothing)\n",
    "cv2.createTrackbar('Val Min', 'Trackbars', 80, 179, nothing)\n",
    "cv2.createTrackbar('Val Max', 'Trackbars', 255, 255, nothing)\n",
    "\n",
    "while (True) :\n",
    "    img = cv2.imread('Images/car.jpg')\n",
    "    hsvImg = cv2.cvtColor(img, cv2.COLOR_BGR2HSV)\n",
    "\n",
    "    if cv2.waitKey(1) == ord('q'):\n",
    "        break\n",
    "    \n",
    "    h_min = cv2.getTrackbarPos('Hue Min', 'Trackbars')\n",
    "    h_max = cv2.getTrackbarPos('Hue Max', 'Trackbars')\n",
    " \n",
    "    s_min = cv2.getTrackbarPos('Sat Min', 'Trackbars')\n",
    "    s_max = cv2.getTrackbarPos('Sat Max', 'Trackbars')\n",
    "\n",
    "    v_min = cv2.getTrackbarPos('Val Min', 'Trackbars')\n",
    "    v_max = cv2.getTrackbarPos('Val Max', 'Trackbars')\n",
    "    \n",
    "    #print(h_min, h_max, s_min, s_max, v_min, v_max)\n",
    "    \n",
    "    lower = np.array([h_min, s_min, v_min])\n",
    "    upper = np.array([h_max, s_max, v_max])\n",
    "    mask = cv2.inRange(hsvImg, lower, upper)\n",
    "    \n",
    "    result = cv2.bitwise_and(img, img, mask=mask)\n",
    "    \n",
    "    cv2.imshow('Image',img)\n",
    "    cv2.imshow('HSV',hsvImg)\n",
    "    cv2.imshow('Mask',mask)\n",
    "    cv2.imshow('Final Image',result)\n",
    "    \n",
    "cv2.destroyAllWindows()"
   ]
  },
  {
   "cell_type": "code",
   "execution_count": 7,
   "metadata": {},
   "outputs": [],
   "source": [
    "# Create a black image, a window\n",
    "img = np.zeros((300,512,3), np.uint8)\n",
    "cv2.namedWindow('image')\n",
    "\n",
    "# create trackbars for color change\n",
    "cv2.createTrackbar('R','image',0,255,nothing)\n",
    "cv2.createTrackbar('G','image',0,255,nothing)\n",
    "cv2.createTrackbar('B','image',0,255,nothing)\n",
    "\n",
    "# create switch for ON/OFF functionality\n",
    "switch = '0 : OFF \\n1 : ON'\n",
    "cv2.createTrackbar(switch, 'image',0,1,nothing)\n",
    "\n",
    "while(1):\n",
    "    cv2.imshow('image',img)\n",
    "    k = cv2.waitKey(1) & 0xFF\n",
    "    if k == 27:\n",
    "        break\n",
    "\n",
    "    # get current positions of four trackbars\n",
    "    r = cv2.getTrackbarPos('R','image')\n",
    "    g = cv2.getTrackbarPos('G','image')\n",
    "    b = cv2.getTrackbarPos('B','image')\n",
    "    s = cv2.getTrackbarPos(switch,'image')\n",
    "\n",
    "    if s == 0:\n",
    "        img[:] = 0\n",
    "    else:\n",
    "        img[:] = [b,g,r]\n",
    "\n",
    "cv2.destroyAllWindows()"
   ]
  },
  {
   "cell_type": "code",
   "execution_count": null,
   "metadata": {},
   "outputs": [],
   "source": []
  }
 ],
 "metadata": {
  "kernelspec": {
   "display_name": "Python 3",
   "language": "python",
   "name": "python3"
  },
  "language_info": {
   "codemirror_mode": {
    "name": "ipython",
    "version": 3
   },
   "file_extension": ".py",
   "mimetype": "text/x-python",
   "name": "python",
   "nbconvert_exporter": "python",
   "pygments_lexer": "ipython3",
   "version": "3.7.3"
  }
 },
 "nbformat": 4,
 "nbformat_minor": 2
}
