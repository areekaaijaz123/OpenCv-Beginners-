{
 "cells": [
  {
   "cell_type": "code",
   "execution_count": 1,
   "metadata": {},
   "outputs": [],
   "source": [
    "import cv2\n",
    "import numpy as np"
   ]
  },
  {
   "cell_type": "code",
   "execution_count": 2,
   "metadata": {},
   "outputs": [],
   "source": [
    "def get_contour(img):\n",
    "    contours, hierarchy = cv2.findContours(img, cv2.RETR_EXTERNAL, cv2.CHAIN_APPROX_NONE)\n",
    "    #2nd attribute = retrieval method (Retrieves extreme outer contours)\n",
    "    #3rd attribute = Approximation to retrieve information \n",
    "    \n",
    "    for cnt in contours:\n",
    "        area = cv2.contourArea(cnt)\n",
    "        #print(area)\n",
    "        \n",
    "        #Setting up a threshold so that only shapes will get contoured only. Avoiding noise\n",
    "        if area>500:            \n",
    "            cv2.drawContours(imgContour, cnt, -1, (255,0,0), 2)\n",
    "            \n",
    "            #Calculate curve length. Curve length will have in approximating corners of our shape\n",
    "            peri = cv2.arcLength(cnt, True)\n",
    "            #print(peri)\n",
    "            \n",
    "            #Approxiamte corner points\n",
    "            approx = cv2.approxPolyDP(cnt, 0.02*peri, True) #2nd attribute = resolution\n",
    "            #print(len(approx))\n",
    "            \n",
    "            #Create object corners\n",
    "            objCorner = len(approx)\n",
    "            \n",
    "            #Create bounding box around detected objects\n",
    "            x, y, wid, hig = cv2.boundingRect(approx)\n",
    "            \n",
    "            if objCorner == 3: objectType = 'Tri'\n",
    "                \n",
    "            elif objCorner == 4: \n",
    "                ratio = wid/float(hig) \n",
    "                if ratio > 0.95 and ratio < 1.05:\n",
    "                    objectType = 'Square'\n",
    "                else: \n",
    "                    objectType = 'Rect'\n",
    "                    \n",
    "            elif objCorner == 7: objectType = 'Hexa'\n",
    "                    \n",
    "            elif objCorner == 10: objectType = 'Star'\n",
    "                \n",
    "            else: objectType = 'None'\n",
    "                \n",
    "            cv2.rectangle(imgContour, (x,y), (x+wid, y+hig), (0,0,0), 2)\n",
    "            cv2.putText(imgContour, objectType, (x+(wid//2)-8, y+(hig//2)-8), cv2.FONT_HERSHEY_COMPLEX, 0.5, (0,0,0), 1)\n",
    "            "
   ]
  },
  {
   "cell_type": "code",
   "execution_count": 3,
   "metadata": {},
   "outputs": [],
   "source": [
    "img = cv2.imread('Images/shapes.png')\n",
    "imgContour = img.copy()\n",
    "\n",
    "grayImg = cv2.cvtColor(img, cv2.COLOR_BGR2GRAY)\n",
    "blurImg = cv2.GaussianBlur(grayImg, (7,7), 1)\n",
    "\n",
    "#Finding edges using canny edge detector\n",
    "cannyImg = cv2.Canny(blurImg, 50, 50)\n",
    "get_contour(cannyImg)\n",
    "blackImg = np.zeros_like(img)\n",
    "\n",
    "cv2.imshow('Original',img)\n",
    "cv2.imshow('Gray Image',grayImg)\n",
    "cv2.imshow('Blur Image',blurImg)\n",
    "cv2.imshow('Canny Image',cannyImg)\n",
    "cv2.imshow('Black Image',blackImg)\n",
    "cv2.imshow('Contoured Image',imgContour)\n",
    "\n",
    "key = cv2.waitKey(0)\n",
    "cv2.destroyAllWindows()"
   ]
  },
  {
   "cell_type": "code",
   "execution_count": null,
   "metadata": {},
   "outputs": [],
   "source": []
  }
 ],
 "metadata": {
  "kernelspec": {
   "display_name": "Python 3",
   "language": "python",
   "name": "python3"
  },
  "language_info": {
   "codemirror_mode": {
    "name": "ipython",
    "version": 3
   },
   "file_extension": ".py",
   "mimetype": "text/x-python",
   "name": "python",
   "nbconvert_exporter": "python",
   "pygments_lexer": "ipython3",
   "version": "3.7.3"
  }
 },
 "nbformat": 4,
 "nbformat_minor": 2
}
